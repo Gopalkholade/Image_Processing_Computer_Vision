{
 "cells": [
  {
   "cell_type": "code",
   "execution_count": 1,
   "id": "e77488ca",
   "metadata": {},
   "outputs": [],
   "source": [
    "import numpy as np\n",
    "import cv2 as cv\n",
    "import matplotlib.pyplot as plt"
   ]
  },
  {
   "cell_type": "code",
   "execution_count": 39,
   "id": "bd131222",
   "metadata": {},
   "outputs": [],
   "source": [
    "cam =cv.VideoCapture(1)\n",
    "\n",
    "while True:\n",
    "    _,img=cam.read()\n",
    "    \n",
    "    img=cv.flip(img,1)\n",
    "    \n",
    "    gray=cv.cvtColor(img,cv.COLOR_BGR2GRAY)\n",
    "    gray_thr_1=gray.copy()                  #FOR black background\n",
    "    gray_thr_1[gray_thr_1>200]=30            \n",
    "    \n",
    "    gray_thr_2=gray.copy()                  #for white background\n",
    "    gray_thr_2[gray_thr_2>200]=100\n",
    "#     gray_thr_1[gray<30]=0\n",
    "    cv.imshow('Original',img)\n",
    "    cv.imshow('Gray',gray)\n",
    "    cv.imshow('gray_thr_1',gray_thr_1)\n",
    "    cv.imshow('gray_thr_2',gray_thr_2)\n",
    "    if cv.waitKey(1)==32:\n",
    "        cam.release()\n",
    "        cv.destroyAllWindows()\n",
    "        break"
   ]
  },
  {
   "cell_type": "code",
   "execution_count": 44,
   "id": "914b4caa",
   "metadata": {},
   "outputs": [],
   "source": [
    "low =np.array([69, 129, 170])\n",
    "high=np.array([78, 155, 211])\n",
    "\n",
    "img_path =str(input(\"Paste Image Path Here : \"))\n",
    "img=cv.imread(img_path)\n",
    "\n",
    "img=cv.resize(img,(640,480))\n",
    "img=cv.flip(img,1)\n",
    "mask=cv.blur(img,(4,4))\n",
    "mask=cv.inRange(mask,low,high)\n",
    "    \n",
    "    \n",
    "cv.imshow('Original',img)\n",
    "cv.waitKey(0)\n",
    "cv.imshow('mask',mask)\n",
    "cv.waitKey(0)\n",
    "cv.destroyAllWindows()"
   ]
  },
  {
   "cell_type": "code",
   "execution_count": 40,
   "id": "0cd58705",
   "metadata": {},
   "outputs": [
    {
     "data": {
      "text/plain": [
       "(480, 640, 3)"
      ]
     },
     "execution_count": 40,
     "metadata": {},
     "output_type": "execute_result"
    }
   ],
   "source": [
    "img.shape"
   ]
  },
  {
   "cell_type": "code",
   "execution_count": 36,
   "id": "0a75dc9d",
   "metadata": {},
   "outputs": [],
   "source": [
    "cam.release()"
   ]
  },
  {
   "cell_type": "code",
   "execution_count": null,
   "id": "922fc7f2",
   "metadata": {},
   "outputs": [],
   "source": []
  },
  {
   "cell_type": "code",
   "execution_count": null,
   "id": "a9bc98bb",
   "metadata": {},
   "outputs": [],
   "source": []
  }
 ],
 "metadata": {
  "kernelspec": {
   "display_name": "base",
   "language": "python",
   "name": "python3"
  },
  "language_info": {
   "codemirror_mode": {
    "name": "ipython",
    "version": 3
   },
   "file_extension": ".py",
   "mimetype": "text/x-python",
   "name": "python",
   "nbconvert_exporter": "python",
   "pygments_lexer": "ipython3",
   "version": "3.9.15"
  },
  "vscode": {
   "interpreter": {
    "hash": "b2457210ea716e35dc15c425b29cd0d6b7697c1e848a156279e9b72b004d2971"
   }
  }
 },
 "nbformat": 4,
 "nbformat_minor": 5
}
