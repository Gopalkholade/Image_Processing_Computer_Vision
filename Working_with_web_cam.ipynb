{
 "cells": [
  {
   "cell_type": "code",
   "execution_count": 13,
   "id": "e61a203d",
   "metadata": {},
   "outputs": [],
   "source": [
    "import cv2 as cv\n",
    "import numpy as np\n",
    "import matplotlib.pyplot as plt"
   ]
  },
  {
   "cell_type": "markdown",
   "id": "44c18867",
   "metadata": {},
   "source": [
    "## working with webcam"
   ]
  },
  {
   "cell_type": "code",
   "execution_count": 14,
   "id": "c11dc239",
   "metadata": {},
   "outputs": [],
   "source": [
    "cam = cv.VideoCapture(1)\n"
   ]
  },
  {
   "cell_type": "code",
   "execution_count": 15,
   "id": "c7ccdb16",
   "metadata": {},
   "outputs": [],
   "source": [
    "while True:\n",
    "    _,img=cam.read()\n",
    "    \n",
    "    img=cv.flip(img,1)\n",
    "    # crop and flip the frame and frame extraction\n",
    "#     frame_crop_r=img[100:500,400:800,0]\n",
    "#     frame_crop_g=flip[100:500,400:800,1]\n",
    "#     frame_crop_b=flip[100:500,400:800,2]\n",
    "    \n",
    "    \n",
    "    hsv=cv.cvtColor(img,cv.COLOR_RGB2HSV)  \n",
    "    h=hsv[:,:,0]\n",
    "    s=hsv[:,:,1]\n",
    "    v=hsv[:,:,2]\n",
    "    cv.imshow('Frame',img)\n",
    "    cv.imshow('Color',hsv)\n",
    "\n",
    "    cv.imshow('hsv_h',h)\n",
    "    cv.imshow('hsv_s',s)\n",
    "    cv.imshow('hsv_v',v)\n",
    "      \n",
    "#     cv.imshow('cropped_red',frame_crop_r)  \n",
    "#     cv.imshow('cropped_green',frame_crop_g)    \n",
    "#     cv.imshow('cropped_blue',frame_crop_b)    \n",
    "\n",
    "\n",
    "    key=cv.waitKey(1)\n",
    "    \n",
    "    if(key==32):\n",
    "        cam.release()\n",
    "        cv.destroyAllWindows()\n",
    "        break"
   ]
  },
  {
   "cell_type": "code",
   "execution_count": null,
   "id": "0da77ccf",
   "metadata": {},
   "outputs": [],
   "source": []
  },
  {
   "cell_type": "code",
   "execution_count": null,
   "id": "7d2d3865",
   "metadata": {},
   "outputs": [],
   "source": []
  }
 ],
 "metadata": {
  "kernelspec": {
   "display_name": "Python 3 (ipykernel)",
   "language": "python",
   "name": "python3"
  },
  "language_info": {
   "codemirror_mode": {
    "name": "ipython",
    "version": 3
   },
   "file_extension": ".py",
   "mimetype": "text/x-python",
   "name": "python",
   "nbconvert_exporter": "python",
   "pygments_lexer": "ipython3",
   "version": "3.9.12"
  }
 },
 "nbformat": 4,
 "nbformat_minor": 5
}
