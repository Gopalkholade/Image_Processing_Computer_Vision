{
 "cells": [
  {
   "cell_type": "code",
   "execution_count": 1,
   "id": "1a7523bf",
   "metadata": {},
   "outputs": [],
   "source": [
    "import cv2 as cv\n",
    "import matplotlib.pyplot as plt\n",
    "import numpy as np"
   ]
  },
  {
   "cell_type": "code",
   "execution_count": 2,
   "id": "26fc6212",
   "metadata": {},
   "outputs": [],
   "source": [
    "cam=cv.VideoCapture(1)\n",
    "while True:\n",
    "    _,img=cam.read()\n",
    "    \n",
    "    img=cv.flip(img,1)\n",
    "    \n",
    "    blur1=cv.blur(img,(2,2)) \n",
    "    blur2=cv.blur(img,(4,4)) #THIS WORKS FOR ME\n",
    "    blur3=cv.blur(img,(5,5))\n",
    "    blur4=cv.blur(img,(6,6))\n",
    "\n",
    "    cv.imshow('Frame1',img)\n",
    "    cv.imshow('blur1',blur1)\n",
    "    cv.imshow('blur2',blur2)\n",
    "    cv.imshow('blur3',blur3)\n",
    "    cv.imshow('blur4',blur4)\n",
    "    \n",
    "    \n",
    "    key=cv.waitKey(1)\n",
    "    \n",
    "    if key==32:\n",
    "        cam.release()\n",
    "        cv.destroyAllWindows()\n",
    "        break"
   ]
  },
  {
   "cell_type": "code",
   "execution_count": null,
   "id": "4496fcb0",
   "metadata": {},
   "outputs": [],
   "source": []
  }
 ],
 "metadata": {
  "kernelspec": {
   "display_name": "Python 3 (ipykernel)",
   "language": "python",
   "name": "python3"
  },
  "language_info": {
   "codemirror_mode": {
    "name": "ipython",
    "version": 3
   },
   "file_extension": ".py",
   "mimetype": "text/x-python",
   "name": "python",
   "nbconvert_exporter": "python",
   "pygments_lexer": "ipython3",
   "version": "3.9.12"
  }
 },
 "nbformat": 4,
 "nbformat_minor": 5
}
