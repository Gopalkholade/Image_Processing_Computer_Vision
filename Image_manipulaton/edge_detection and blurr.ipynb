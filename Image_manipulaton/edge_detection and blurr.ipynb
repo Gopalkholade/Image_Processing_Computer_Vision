{
 "cells": [
  {
   "cell_type": "code",
   "execution_count": 3,
   "id": "a5616172",
   "metadata": {},
   "outputs": [],
   "source": [
    "import numpy as np\n",
    "import matplotlib.pyplot as plt\n",
    "import cv2 as cv"
   ]
  },
  {
   "cell_type": "code",
   "execution_count": 8,
   "id": "143e1952",
   "metadata": {},
   "outputs": [],
   "source": [
    "cam=cv.VideoCapture(1)\n",
    "while True:\n",
    "    _,img=cam.read()\n",
    "    \n",
    "    img=cv.flip(img,1)\n",
    "    \n",
    "    \n",
    "    blur=cv.blur(img,(3,3)) \n",
    "    edge=cv.Canny(img,100,200)\n",
    "    final=cv.Canny(blur,100,200)\n",
    "    \n",
    "    cv.imshow('Frame1',img)\n",
    "    cv.imshow('blur',blur)\n",
    "    cv.imshow('edge',edge)\n",
    "    cv.imshow('final',final)\n",
    "    \n",
    "    \n",
    "    key=cv.waitKey(1)\n",
    "    \n",
    "    if key==32:\n",
    "        cam.release()\n",
    "        cv.destroyAllWindows()\n",
    "        break"
   ]
  },
  {
   "cell_type": "code",
   "execution_count": null,
   "id": "9f39ee20",
   "metadata": {},
   "outputs": [],
   "source": []
  }
 ],
 "metadata": {
  "kernelspec": {
   "display_name": "Python 3 (ipykernel)",
   "language": "python",
   "name": "python3"
  },
  "language_info": {
   "codemirror_mode": {
    "name": "ipython",
    "version": 3
   },
   "file_extension": ".py",
   "mimetype": "text/x-python",
   "name": "python",
   "nbconvert_exporter": "python",
   "pygments_lexer": "ipython3",
   "version": "3.9.12"
  }
 },
 "nbformat": 4,
 "nbformat_minor": 5
}
