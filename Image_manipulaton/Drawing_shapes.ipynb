{
 "cells": [
  {
   "cell_type": "code",
   "execution_count": 13,
   "id": "0202dbcc",
   "metadata": {},
   "outputs": [],
   "source": [
    "import cv2 as cv \n",
    "import numpy as np\n",
    "import matplotlib.pyplot as plt\n"
   ]
  },
  {
   "cell_type": "code",
   "execution_count": 33,
   "id": "09815aa2",
   "metadata": {},
   "outputs": [],
   "source": [
    "cam=cv.VideoCapture(1)\n",
    "while True:\n",
    "    _,img=cam.read()\n",
    "    \n",
    "    img=cv.flip(img,1)\n",
    "    \n",
    "    rect=cv.rectangle(img,(200,100),(400,300),(150,0,0),2)\n",
    "    circ=cv.circle(img,(300,200),100,(0,255,0),2)\n",
    "    text=cv.putText(img,'mr',(400,300),cv.FONT_HERSHEY_PLAIN,2,(255,0,0),2)\n",
    "    cv.imshow('Frame',img)\n",
    "    \n",
    "    key=cv.waitKey(1)\n",
    "    \n",
    "    if key==32:\n",
    "        cam.release()\n",
    "        cv.destroyAllWindows()\n",
    "        break"
   ]
  },
  {
   "cell_type": "code",
   "execution_count": 30,
   "id": "195272e7",
   "metadata": {},
   "outputs": [],
   "source": [
    "cam.release()\n",
    "cv.destroyAllWindows()"
   ]
  },
  {
   "cell_type": "code",
   "execution_count": null,
   "id": "3180f4b9",
   "metadata": {},
   "outputs": [],
   "source": []
  }
 ],
 "metadata": {
  "kernelspec": {
   "display_name": "Python 3 (ipykernel)",
   "language": "python",
   "name": "python3"
  },
  "language_info": {
   "codemirror_mode": {
    "name": "ipython",
    "version": 3
   },
   "file_extension": ".py",
   "mimetype": "text/x-python",
   "name": "python",
   "nbconvert_exporter": "python",
   "pygments_lexer": "ipython3",
   "version": "3.9.12"
  }
 },
 "nbformat": 4,
 "nbformat_minor": 5
}
