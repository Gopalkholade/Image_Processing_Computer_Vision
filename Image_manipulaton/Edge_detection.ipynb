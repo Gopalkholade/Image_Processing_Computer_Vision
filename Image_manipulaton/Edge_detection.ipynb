{
 "cells": [
  {
   "cell_type": "code",
   "execution_count": 1,
   "id": "10bc3636",
   "metadata": {},
   "outputs": [],
   "source": [
    "import numpy as np\n",
    "import cv2 as cv \n",
    "import matplotlib.pyplot as plt"
   ]
  },
  {
   "cell_type": "code",
   "execution_count": 6,
   "id": "f6ef45c0",
   "metadata": {},
   "outputs": [],
   "source": [
    "cam=cv.VideoCapture(1)\n",
    "while True:\n",
    "    _,img=cam.read()\n",
    "    \n",
    "    img=cv.flip(img,1)\n",
    "    \n",
    "    edge1=cv.Canny(img,50,100)\n",
    "    edge2=cv.Canny(img,100,150) #THIS WORKS FOR ME\n",
    "    edge3=cv.Canny(img,200,250)\n",
    "    \n",
    "\n",
    "    cv.imshow('Frame1',img)\n",
    "    cv.imshow('edge1',edge1)\n",
    "    cv.imshow('edge2',edge2)\n",
    "    cv.imshow('edge3',edge3)\n",
    "    \n",
    "    \n",
    "    key=cv.waitKey(1)\n",
    "    \n",
    "    if key==32:\n",
    "        cam.release()\n",
    "        cv.destroyAllWindows()\n",
    "        break"
   ]
  },
  {
   "cell_type": "code",
   "execution_count": 8,
   "id": "5dceaf4b",
   "metadata": {},
   "outputs": [
    {
     "data": {
      "text/plain": [
       "(480, 640, 3)"
      ]
     },
     "execution_count": 8,
     "metadata": {},
     "output_type": "execute_result"
    }
   ],
   "source": [
    "img.shape"
   ]
  },
  {
   "cell_type": "code",
   "execution_count": null,
   "id": "0f940ef0",
   "metadata": {},
   "outputs": [],
   "source": []
  }
 ],
 "metadata": {
  "kernelspec": {
   "display_name": "Python 3 (ipykernel)",
   "language": "python",
   "name": "python3"
  },
  "language_info": {
   "codemirror_mode": {
    "name": "ipython",
    "version": 3
   },
   "file_extension": ".py",
   "mimetype": "text/x-python",
   "name": "python",
   "nbconvert_exporter": "python",
   "pygments_lexer": "ipython3",
   "version": "3.9.12"
  }
 },
 "nbformat": 4,
 "nbformat_minor": 5
}
