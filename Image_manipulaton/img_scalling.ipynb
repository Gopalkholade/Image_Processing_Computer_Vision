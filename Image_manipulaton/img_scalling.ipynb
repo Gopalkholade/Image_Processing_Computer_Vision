{
 "cells": [
  {
   "cell_type": "code",
   "execution_count": 1,
   "id": "7be3f6c6",
   "metadata": {},
   "outputs": [],
   "source": [
    "import numpy as np\n",
    "import matplotlib.pyplot as plt\n",
    "import cv2 as cv"
   ]
  },
  {
   "cell_type": "code",
   "execution_count": 23,
   "id": "6cc81120",
   "metadata": {},
   "outputs": [],
   "source": [
    "cam=cv.VideoCapture(1)\n",
    "while True:\n",
    "    _,img=cam.read()\n",
    "    \n",
    "    img=cv.flip(img,1)\n",
    "    \n",
    "    res=cv.resize(img,(int(img.shape[1]/2),int(img.shape[0]/2)))\n",
    "    res2=cv.resize(img,(int(img.shape[1]*2),int(img.shape[0]*2)))\n",
    "    res3=cv.resize(img,(1920,1080))\n",
    "\n",
    "    \n",
    "    cv.imshow('Original',img)\n",
    "    cv.imshow('resized',res)\n",
    "    cv.imshow('res2',res2)\n",
    "    cv.imshow('res3',res3)\n",
    "\n",
    "    \n",
    "    key=cv.waitKey(1)\n",
    "    \n",
    "    if key==32:\n",
    "        cam.release()\n",
    "        cv.destroyAllWindows()\n",
    "        break"
   ]
  },
  {
   "cell_type": "code",
   "execution_count": 18,
   "id": "b4414710",
   "metadata": {},
   "outputs": [],
   "source": [
    "cam.release()\n",
    "cv.destroyAllWindows()"
   ]
  },
  {
   "cell_type": "code",
   "execution_count": 11,
   "id": "50b04674",
   "metadata": {},
   "outputs": [
    {
     "data": {
      "text/plain": [
       "0.75"
      ]
     },
     "execution_count": 11,
     "metadata": {},
     "output_type": "execute_result"
    }
   ],
   "source": [
    "480/640"
   ]
  },
  {
   "cell_type": "code",
   "execution_count": 6,
   "id": "2c2ab9c2",
   "metadata": {},
   "outputs": [
    {
     "data": {
      "text/plain": [
       "160"
      ]
     },
     "execution_count": 6,
     "metadata": {},
     "output_type": "execute_result"
    }
   ],
   "source": [
    "640-480"
   ]
  },
  {
   "cell_type": "code",
   "execution_count": 14,
   "id": "e8f6e5bc",
   "metadata": {},
   "outputs": [
    {
     "data": {
      "text/plain": [
       "320.0"
      ]
     },
     "execution_count": 14,
     "metadata": {},
     "output_type": "execute_result"
    }
   ],
   "source": [
    "640/2"
   ]
  },
  {
   "cell_type": "code",
   "execution_count": null,
   "id": "68e781f5",
   "metadata": {},
   "outputs": [],
   "source": []
  }
 ],
 "metadata": {
  "kernelspec": {
   "display_name": "Python 3 (ipykernel)",
   "language": "python",
   "name": "python3"
  },
  "language_info": {
   "codemirror_mode": {
    "name": "ipython",
    "version": 3
   },
   "file_extension": ".py",
   "mimetype": "text/x-python",
   "name": "python",
   "nbconvert_exporter": "python",
   "pygments_lexer": "ipython3",
   "version": "3.9.12"
  }
 },
 "nbformat": 4,
 "nbformat_minor": 5
}
