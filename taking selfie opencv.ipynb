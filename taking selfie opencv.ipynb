{
 "cells": [
  {
   "cell_type": "code",
   "execution_count": 7,
   "id": "8e9137bc",
   "metadata": {},
   "outputs": [],
   "source": [
    "import cv2 as cv\n",
    "import numpy as np\n",
    "import matplotlib.pyplot as plt \n",
    "import os"
   ]
  },
  {
   "cell_type": "code",
   "execution_count": 8,
   "id": "43999f81",
   "metadata": {},
   "outputs": [],
   "source": [
    "#taking iinput from camera\n",
    "cam=cv.VideoCapture(1)"
   ]
  },
  {
   "cell_type": "markdown",
   "id": "84d12c93",
   "metadata": {},
   "source": [
    "### frame extraction"
   ]
  },
  {
   "cell_type": "code",
   "execution_count": 9,
   "id": "d5901057",
   "metadata": {},
   "outputs": [],
   "source": [
    "count=0\n",
    "\n",
    "while True:\n",
    "    _,img=cam.read()\n",
    "    #flipping the img\n",
    "    img=cv.flip(img,1)\n",
    "    cv.imshow('Frame',img)\n",
    "    grey=cv.cvtColor(img,cv.COLOR_RGB2GRAY)\n",
    "    #giving it a waitkey\n",
    "    key=cv.waitKey(1)   #here in waitkey function you are giving time in milisec to refresh\n",
    "    \n",
    "    \n",
    "    try:\n",
    "        os.mkdir('Cam')\n",
    "    except:\n",
    "        pass\n",
    "    if key==32:\n",
    "        cv.imwrite('Cam/Selfie'+str(count)+'.jpeg',img)\n",
    "        count+=1\n",
    "    \n",
    "    if key==27:\n",
    "        cam.release()\n",
    "        cv.destroyAllWindows()\n",
    "        break"
   ]
  },
  {
   "cell_type": "code",
   "execution_count": null,
   "id": "b778c56f",
   "metadata": {},
   "outputs": [],
   "source": []
  }
 ],
 "metadata": {
  "kernelspec": {
   "display_name": "Python 3 (ipykernel)",
   "language": "python",
   "name": "python3"
  },
  "language_info": {
   "codemirror_mode": {
    "name": "ipython",
    "version": 3
   },
   "file_extension": ".py",
   "mimetype": "text/x-python",
   "name": "python",
   "nbconvert_exporter": "python",
   "pygments_lexer": "ipython3",
   "version": "3.9.12"
  }
 },
 "nbformat": 4,
 "nbformat_minor": 5
}
