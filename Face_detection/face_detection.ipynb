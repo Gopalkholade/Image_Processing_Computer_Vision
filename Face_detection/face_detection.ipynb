{
 "cells": [
  {
   "cell_type": "code",
   "execution_count": 32,
   "id": "9804c953",
   "metadata": {},
   "outputs": [],
   "source": [
    "import cv2 as cv\n",
    "import numpy as np\n",
    "import matplotlib.pyplot as plt"
   ]
  },
  {
   "cell_type": "code",
   "execution_count": 54,
   "id": "dc075bae",
   "metadata": {},
   "outputs": [],
   "source": [
    "classifier=cv.CascadeClassifier('haarcascade_frontalface_default.xml')\n",
    "\n",
    "cam=cv.VideoCapture(1)\n",
    "\n",
    "while True:\n",
    "    _,img=cam.read()\n",
    "    img=cv.flip(img,1)\n",
    "    \n",
    "    faces=classifier.detectMultiScale(img,1.9,3)\n",
    "    \n",
    "    for f in faces:                                          #going through each face detected\n",
    "        if f[-1] == max(faces[:,-1]):                        #finding the higest area\n",
    "            break\n",
    "            \n",
    "    if len(faces)>=1:                                        #drawing rectangle if face is detected\n",
    "        x=f[0]\n",
    "        y=f[1]\n",
    "        w=f[2]\n",
    "        h=f[3]\n",
    "        cv.rectangle(img,(x,y),(x+w,y+h),(0,100,0),2)\n",
    "        crop=img[y-50:(y+w)+35,x:x+w]                            #getting the face area\n",
    "        br=max(int((y+h)/6.5),int((y+h)/6.5))            #automatically adjusting blurr\n",
    "        crop=cv.blur(crop,(br,br))                       #applying blurr\n",
    "        img[y-50:(y+w)+35,x:x+w]=crop                            #reapplying blured frame to original frame\n",
    "    cv.imshow('crop',crop)\n",
    "    cv.imshow('Original',img)\n",
    "    if cv.waitKey(1)==32:\n",
    "        cam.release()\n",
    "        cv.destroyAllWindows()\n",
    "        break"
   ]
  },
  {
   "cell_type": "code",
   "execution_count": 9,
   "id": "3b351a12",
   "metadata": {},
   "outputs": [],
   "source": [
    "classifier=cv.CascadeClassifier('haarcascade_frontalface_default.xml')\n",
    "\n",
    "cam=cv.VideoCapture(1)\n",
    "\n",
    "while True:\n",
    "    _,img=cam.read()\n",
    "    img=cv.flip(img,1)\n",
    "    \n",
    "    faces=classifier.detectMultiScale(img,1.9,3)\n",
    "    \n",
    "    for f in faces:                                          #going through each face detected\n",
    "        if f[-1] == max(faces[:,-1]):                        #finding the higest area\n",
    "            break\n",
    "    x=f[0]\n",
    "    y=f[1]\n",
    "    w=f[2]\n",
    "    h=f[3]\n",
    "    \n",
    "    face=img[y-50:(y+w)+35,x:x+w]\n",
    "    black=np.zeros((face.shape),dtype=int)        \n",
    "    img[y-50:(y+w)+35,x:x+w]=black                    #reapplying black frame to original frame\n",
    "    \n",
    "    cv.imshow('Original',img)\n",
    "    if cv.waitKey(1)==32:\n",
    "        cam.release()\n",
    "        cv.destroyAllWindows()\n",
    "        break"
   ]
  },
  {
   "cell_type": "code",
   "execution_count": null,
   "id": "18fe625f",
   "metadata": {},
   "outputs": [],
   "source": []
  },
  {
   "cell_type": "markdown",
   "id": "f2062601",
   "metadata": {},
   "source": [
    "### creating_circle"
   ]
  },
  {
   "cell_type": "code",
   "execution_count": 17,
   "id": "2a680255",
   "metadata": {},
   "outputs": [],
   "source": [
    "classifier=cv.CascadeClassifier('haarcascade_frontalface_default.xml')\n",
    "\n",
    "cam=cv.VideoCapture(1)\n",
    "\n",
    "while True:\n",
    "    _,img=cam.read()\n",
    "    img=cv.flip(img,1)\n",
    "    \n",
    "    faces=classifier.detectMultiScale(img,1.9,3)\n",
    "    \n",
    "    for f in faces:                                          #going through each face detected\n",
    "        if f[-1] == max(faces[:,-1]):                        #finding the higest area\n",
    "            break\n",
    "    x=f[0]\n",
    "    y=f[1]\n",
    "    w=f[2]\n",
    "    h=f[3]\n",
    "    \n",
    "    circle_x = x + int(y/2)\n",
    "    circle_y = y + int(h/2)\n",
    "    cv.circle(img,(circle_x,circle_y),int(w/2),(0,0,0),-1)\n",
    "\n",
    "#     black=np.zeros((face.shape),dtype=int)        \n",
    "#     img[y-50:(y+w)+35,x:x+w]=black                    #reapplying black frame to original frame\n",
    "    \n",
    "    cv.imshow('Original',img)\n",
    "    if cv.waitKey(1)==32:\n",
    "        cam.release()\n",
    "        cv.destroyAllWindows()\n",
    "        break"
   ]
  },
  {
   "cell_type": "code",
   "execution_count": 29,
   "id": "f979a168",
   "metadata": {},
   "outputs": [],
   "source": [
    "import os"
   ]
  },
  {
   "cell_type": "code",
   "execution_count": 41,
   "id": "2c782725",
   "metadata": {},
   "outputs": [
    {
     "name": "stdout",
     "output_type": "stream",
     "text": [
      "Faces/IMG_1.png is exported\n",
      "Faces/IMG_2.png is exported\n",
      "Faces/IMG_3.png is exported\n",
      "Faces/IMG_4.png is exported\n",
      "Faces/IMG_5.png is exported\n"
     ]
    }
   ],
   "source": [
    "img=cv.imread('photo.png')\n",
    "              \n",
    "classifier=cv.CascadeClassifier('haarcascade_frontalface_default.xml')\n",
    "faces=classifier.detectMultiScale(img,1.9,3)\n",
    "\n",
    "\n",
    "def save(frame,folder_name):\n",
    "    name_img=len(os.listdir(folder_name))+1\n",
    "    name_img=folder_name+'/IMG_'+str(name_img)+'.png'\n",
    "    cv.imwrite(name_img,frame)\n",
    "    print(name_img,'is exported')\n",
    "for x,y,w,h in faces:                                         \n",
    "    face=img[y:y+h,x:x+w]\n",
    "    \n",
    "    cv.imshow('Original',img)\n",
    "    cv.waitKey(0)\n",
    "    cv.imshow('face',face)\n",
    "    \n",
    "    if cv.waitKey(0)==32:                 #saving img press space\n",
    "        save(face,'Faces')\n",
    "    elif cv.waitKey(0) ==8:               #skipping img press backspace\n",
    "        pass\n",
    "    cv.destroyAllWindows()"
   ]
  },
  {
   "cell_type": "code",
   "execution_count": 8,
   "id": "4be6f251",
   "metadata": {},
   "outputs": [],
   "source": [
    "cam.release()\n",
    "cv.destroyAllWindows()"
   ]
  },
  {
   "cell_type": "code",
   "execution_count": 45,
   "id": "a171c5fc",
   "metadata": {},
   "outputs": [
    {
     "data": {
      "text/plain": [
       "49"
      ]
     },
     "execution_count": 45,
     "metadata": {},
     "output_type": "execute_result"
    }
   ],
   "source": [
    "int((y+h)/6.5)"
   ]
  },
  {
   "cell_type": "code",
   "execution_count": 11,
   "id": "59f489a6",
   "metadata": {},
   "outputs": [
    {
     "data": {
      "text/plain": [
       "(331, 243)"
      ]
     },
     "execution_count": 11,
     "metadata": {},
     "output_type": "execute_result"
    }
   ],
   "source": [
    "(circle_x,circle_y)"
   ]
  },
  {
   "cell_type": "code",
   "execution_count": 36,
   "id": "2d63806e",
   "metadata": {},
   "outputs": [
    {
     "data": {
      "text/plain": [
       "8"
      ]
     },
     "execution_count": 36,
     "metadata": {},
     "output_type": "execute_result"
    }
   ],
   "source": [
    "img=cv.imread('photo.png')\n",
    "\n",
    "cv.imshow('Original',img)\n",
    "\n",
    "cv.waitKey(0)"
   ]
  },
  {
   "cell_type": "code",
   "execution_count": 37,
   "id": "3b7a2dd8",
   "metadata": {},
   "outputs": [],
   "source": [
    "cv.destroyAllWindows()"
   ]
  },
  {
   "cell_type": "code",
   "execution_count": null,
   "id": "41d071c7",
   "metadata": {},
   "outputs": [],
   "source": []
  }
 ],
 "metadata": {
  "kernelspec": {
   "display_name": "Python 3 (ipykernel)",
   "language": "python",
   "name": "python3"
  },
  "language_info": {
   "codemirror_mode": {
    "name": "ipython",
    "version": 3
   },
   "file_extension": ".py",
   "mimetype": "text/x-python",
   "name": "python",
   "nbconvert_exporter": "python",
   "pygments_lexer": "ipython3",
   "version": "3.9.12"
  }
 },
 "nbformat": 4,
 "nbformat_minor": 5
}
