{
 "cells": [
  {
   "cell_type": "code",
   "execution_count": 111,
   "id": "1eb4ce73",
   "metadata": {},
   "outputs": [],
   "source": [
    "import numpy as np\n",
    "import cv2"
   ]
  },
  {
   "cell_type": "code",
   "execution_count": 112,
   "id": "8e47f114",
   "metadata": {},
   "outputs": [],
   "source": [
    "def cartoonify(image):\n",
    "    originalImage=cv2.cvtColor(image,cv2.COLOR_BGR2RGB)\n",
    "    #confirm that img is choosen\n",
    "    if originalImage is None:\n",
    "        print(\"Cannot find any image. Choose appropriate file\")\n",
    "        sys.exit()\n",
    "\n",
    "    #converting img to grayscale\n",
    "    grayScaleImage= cv2.cvtColor(originalImage,cv2.COLOR_BGR2GRAY)\n",
    "\n",
    "    #applying mesian blur to smoothen an image\n",
    "    smoothengrayScale=cv2.medianBlur(grayScaleImage,5)\n",
    "    \n",
    "    # retriving the edge for cartoon effect\n",
    "    # by using thresholding technique\n",
    "#     getEdge=cv2.Canny(smoothengrayScale,100,130)\n",
    "    getEdge=cv2.adaptiveThreshold(smoothengrayScale,255,cv2.ADAPTIVE_THRESH_MEAN_C,cv2.THRESH_BINARY,9,9)\n",
    "\n",
    "\n",
    "    #applying bilateral filter to remove noise\n",
    "    # and keep edge sharp as required\n",
    "    colorImage = cv2.bilateralFilter(originalImage,9,300,300)\n",
    "\n",
    "\n",
    "    #masking edge image with \"beutify\" image\n",
    "    cartoonImage=cv2.bitwise_and(colorImage,colorImage,mask=getEdge)\n",
    "    \n",
    "    return getEdge"
   ]
  },
  {
   "cell_type": "code",
   "execution_count": 120,
   "id": "26048c63",
   "metadata": {},
   "outputs": [],
   "source": [
    "cam=cv2.VideoCapture(1)\n",
    "while True:\n",
    "    _,img=cam.read()\n",
    "    crtton=cartoonify(img)\n",
    "    cv2.imshow(\"feed\",img)\n",
    "    cv2.imshow(\"Cartoon\",crtton)\n",
    "    if cv2.waitKey(3) == 32:\n",
    "        cam.release()\n",
    "        cv2.destroyAllWindows()\n",
    "        break"
   ]
  },
  {
   "cell_type": "code",
   "execution_count": 121,
   "id": "36edff25",
   "metadata": {},
   "outputs": [
    {
     "data": {
      "text/plain": [
       "True"
      ]
     },
     "execution_count": 121,
     "metadata": {},
     "output_type": "execute_result"
    }
   ],
   "source": []
  },
  {
   "cell_type": "code",
   "execution_count": 114,
   "id": "aa10ce9e",
   "metadata": {},
   "outputs": [],
   "source": [
    "cam.release()"
   ]
  },
  {
   "cell_type": "code",
   "execution_count": 119,
   "id": "1dc2a9b3",
   "metadata": {},
   "outputs": [],
   "source": [
    "import cv2\n",
    "import numpy as np\n",
    "# Setup camera\n",
    "cap = cv2.VideoCapture(1)\n",
    "# Set a smaller resolution\n",
    "cap.set(cv2.CAP_PROP_FRAME_WIDTH, 640)\n",
    "cap.set(cv2.CAP_PROP_FRAME_HEIGHT, 480)\n",
    "# Just a dummy frame, will be overwritten\n",
    "last_foreground = np.zeros((480, 640), dtype='uint8')\n",
    "while True:\n",
    "    # Capture frame-by-frame\n",
    "    _, frame = cap.read()\n",
    "    # Only needed if you webcam does not support 640x480\n",
    "    frame = cv2.resize(frame, (640, 480))\n",
    "    # Flip it to mirror you\n",
    "    frame = cv2.flip(frame, 1)\n",
    "    # Convert to gray scale\n",
    "    gray = cv2.cvtColor(frame, cv2.COLOR_BGR2GRAY)\n",
    "    # Keep the foreground\n",
    "    foreground = gray\n",
    "    # Take the absolute difference\n",
    "    abs_diff = cv2.absdiff(foreground, last_foreground)\n",
    "    # Update the last foreground image\n",
    "    last_foreground = foreground\n",
    "    _, mask = cv2.threshold(abs_diff, 20, 255, cv2.THRESH_BINARY)\n",
    "    mask = cv2.dilate(mask, None, iterations=3)\n",
    "    se = np.ones((85, 85), dtype='uint8')\n",
    "    mask = cv2.morphologyEx(mask, cv2.MORPH_CLOSE, se)\n",
    "    frame_effect = cv2.stylization(frame, sigma_s=150, sigma_r=0.25)\n",
    "    idx = (mask > 1)\n",
    "    frame[idx] = frame_effect[idx]\n",
    "    # cv2.imshow('WebCam (Mask)', mask)\n",
    "    cv2.imshow('WebCam (frame)', frame)\n",
    "    if cv2.waitKey(30) == ord('q'):\n",
    "        break\n",
    "# When everything done, release the capture\n",
    "cap.release()\n",
    "cv2.destroyAllWindows()"
   ]
  },
  {
   "cell_type": "code",
   "execution_count": null,
   "id": "5f5fe548",
   "metadata": {},
   "outputs": [],
   "source": []
  }
 ],
 "metadata": {
  "kernelspec": {
   "display_name": "Python 3 (ipykernel)",
   "language": "python",
   "name": "python3"
  },
  "language_info": {
   "codemirror_mode": {
    "name": "ipython",
    "version": 3
   },
   "file_extension": ".py",
   "mimetype": "text/x-python",
   "name": "python",
   "nbconvert_exporter": "python",
   "pygments_lexer": "ipython3",
   "version": "3.9.15"
  }
 },
 "nbformat": 4,
 "nbformat_minor": 5
}
