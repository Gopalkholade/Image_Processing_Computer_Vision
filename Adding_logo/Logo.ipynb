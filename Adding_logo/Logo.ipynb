{
 "cells": [
  {
   "cell_type": "code",
   "execution_count": 1,
   "id": "069e377b",
   "metadata": {},
   "outputs": [],
   "source": [
    "import numpy as np\n",
    "import matplotlib.pyplot as plt\n",
    "import cv2 as cv"
   ]
  },
  {
   "cell_type": "code",
   "execution_count": 2,
   "id": "805a878c",
   "metadata": {},
   "outputs": [
    {
     "ename": "KeyboardInterrupt",
     "evalue": "",
     "output_type": "error",
     "traceback": [
      "\u001b[1;31m---------------------------------------------------------------------------\u001b[0m",
      "\u001b[1;31mKeyboardInterrupt\u001b[0m                         Traceback (most recent call last)",
      "Input \u001b[1;32mIn [2]\u001b[0m, in \u001b[0;36m<cell line: 6>\u001b[1;34m()\u001b[0m\n\u001b[0;32m      3\u001b[0m logo\u001b[38;5;241m=\u001b[39mcv\u001b[38;5;241m.\u001b[39mresize(logo,(\u001b[38;5;241m50\u001b[39m,\u001b[38;5;241m50\u001b[39m))\n\u001b[0;32m      5\u001b[0m \u001b[38;5;28;01mwhile\u001b[39;00m \u001b[38;5;28;01mTrue\u001b[39;00m:\n\u001b[1;32m----> 6\u001b[0m     _,img\u001b[38;5;241m=\u001b[39m\u001b[43mcam\u001b[49m\u001b[38;5;241;43m.\u001b[39;49m\u001b[43mread\u001b[49m\u001b[43m(\u001b[49m\u001b[43m)\u001b[49m\n\u001b[0;32m      7\u001b[0m     img\u001b[38;5;241m=\u001b[39mcv\u001b[38;5;241m.\u001b[39mflip(img,\u001b[38;5;241m1\u001b[39m)\n\u001b[0;32m      8\u001b[0m     img[\u001b[38;5;241m20\u001b[39m:\u001b[38;5;241m70\u001b[39m,\u001b[38;5;241m580\u001b[39m:\u001b[38;5;241m630\u001b[39m]\u001b[38;5;241m=\u001b[39mlogo\n",
      "\u001b[1;31mKeyboardInterrupt\u001b[0m: "
     ]
    }
   ],
   "source": [
    "cam =cv.VideoCapture(1)\n",
    "logo=cv.imread('logo.png')\n",
    "logo=cv.resize(logo,(50,50))\n",
    "\n",
    "while True:\n",
    "    _,img=cam.read()\n",
    "    img=cv.flip(img,1)\n",
    "    img[20:70,580:630]=logo\n",
    "    cv.imshow('Original',img)\n",
    "    \n",
    "    if cv.waitKey(1)==32:\n",
    "        cam.release()\n",
    "        cv.destroyAllWindows()\n",
    "        break"
   ]
  },
  {
   "cell_type": "code",
   "execution_count": null,
   "id": "56882340",
   "metadata": {},
   "outputs": [],
   "source": [
    "cam.release()"
   ]
  },
  {
   "cell_type": "code",
   "execution_count": null,
   "id": "85d8d0f0",
   "metadata": {},
   "outputs": [],
   "source": [
    "plt.figure(figsize=(28,20))\n",
    "plt.imshow(img)"
   ]
  },
  {
   "cell_type": "code",
   "execution_count": null,
   "id": "fbee4e77",
   "metadata": {},
   "outputs": [],
   "source": [
    "def Logo(path_logo,h_logo=50,w_logo=50,siz_frm_cor=10):\n",
    "    #function for dynamic logo assignment\n",
    "    cam =cv.VideoCapture(1)\n",
    "    logo=cv.imread('logo.png')\n",
    "    logo=cv.resize(logo,(w_logo,h_logo))\n",
    "    while True:\n",
    "        _,img=cam.read()\n",
    "        img=cv.flip(img,1)\n",
    "        img[siz_frm_cor:(siz_frm_cor+logo.shape[0]),((img.shape[1]-siz_frm_cor)-logo.shape[1]):(img.shape[1]-siz_frm_cor)]=logo\n",
    "        img=cv.putText(img,'Press Space to exit ...',(0,img.shape[0]-10),cv.FONT_HERSHEY_SIMPLEX,0.5,(255,255,255),2)\n",
    "        cv.imshow('Original',img)\n",
    "\n",
    "        if cv.waitKey(1)==32:\n",
    "            cam.release()\n",
    "            cv.destroyAllWindows()\n",
    "            break"
   ]
  },
  {
   "cell_type": "code",
   "execution_count": null,
   "id": "da4712ec",
   "metadata": {},
   "outputs": [],
   "source": [
    "Logo('logo.png',50,100,10)"
   ]
  },
  {
   "cell_type": "markdown",
   "id": "4f410d88",
   "metadata": {},
   "source": [
    "### top right"
   ]
  },
  {
   "cell_type": "code",
   "execution_count": null,
   "id": "b7b08bfe",
   "metadata": {},
   "outputs": [],
   "source": [
    "cam =cv.VideoCapture(1)\n",
    "logo=cv.imread('logo.png')\n",
    "logo=cv.resize(logo,(50,50))\n",
    "\n",
    "while True:\n",
    "    _,img=cam.read()\n",
    "    img=cv.flip(img,1)\n",
    "    ht=img.shape[0]\n",
    "    wd=img.shape[1]\n",
    "    \n",
    "    margin_h=int((ht/100)*2.2)\n",
    "    margin_w=int((wd/100)*90.7)\n",
    "    logo_h=int((ht/100)*10.5)\n",
    "    logo_w=int((wd/100)*7.82)\n",
    "\n",
    "    img[margin_h:margin_h+logo_h,margin_w:margin_w+logo_w]=logo\n",
    "    cv.imshow('Original',img)\n",
    "    \n",
    "    if cv.waitKey(1)==32:\n",
    "        cam.release()\n",
    "        cv.destroyAllWindows()\n",
    "        break"
   ]
  },
  {
   "cell_type": "markdown",
   "id": "bf9f396c",
   "metadata": {},
   "source": [
    "### top left"
   ]
  },
  {
   "cell_type": "code",
   "execution_count": 4,
   "id": "c0616da1",
   "metadata": {},
   "outputs": [],
   "source": [
    "cam =cv.VideoCapture(1)\n",
    "logo=cv.imread('logo.png')\n",
    "logo=cv.resize(logo,(50,50))\n",
    "\n",
    "while True:\n",
    "    _,img=cam.read()\n",
    "    img=cv.flip(img,1)\n",
    "    ht=img.shape[0]\n",
    "    wd=img.shape[1]\n",
    "    \n",
    "    margin_h=int((ht/100)*2.2)\n",
    "    margin_w=int((ht/100)*2.2)\n",
    "    logo_h=int((ht/100)*10.5)\n",
    "    logo_w=int((wd/100)*7.82)\n",
    "\n",
    "    img[margin_h:margin_h+logo_h,margin_w:margin_w+logo_w]=logo\n",
    "    cv.imshow('Original',img)\n",
    "    \n",
    "    if cv.waitKey(1)==32:\n",
    "        cam.release()\n",
    "        cv.destroyAllWindows()\n",
    "        break"
   ]
  },
  {
   "cell_type": "markdown",
   "id": "868300dc",
   "metadata": {},
   "source": [
    "### bottom Left"
   ]
  },
  {
   "cell_type": "code",
   "execution_count": 7,
   "id": "20197df0",
   "metadata": {},
   "outputs": [],
   "source": [
    "cam =cv.VideoCapture(1)\n",
    "logo=cv.imread('logo.png')\n",
    "logo=cv.resize(logo,(50,50))\n",
    "\n",
    "while True:\n",
    "    _,img=cam.read()\n",
    "    img=cv.flip(img,1)\n",
    "    ht=img.shape[0]\n",
    "    wd=img.shape[1]\n",
    "    \n",
    "    margin_h=int((ht/100)*87.5)\n",
    "    margin_w=int((wd/100)*2.2)\n",
    "    logo_h=int((ht/100)*10.5)\n",
    "    logo_w=int((wd/100)*7.82)\n",
    "\n",
    "    img[margin_h:margin_h+logo_h,margin_w:margin_w+logo_w]=logo\n",
    "    cv.imshow('Original',img)\n",
    "    \n",
    "    if cv.waitKey(1)==32:\n",
    "        cam.release()\n",
    "        cv.destroyAllWindows()\n",
    "        break"
   ]
  },
  {
   "cell_type": "markdown",
   "id": "13ae8485",
   "metadata": {},
   "source": [
    "### bottom right"
   ]
  },
  {
   "cell_type": "code",
   "execution_count": 8,
   "id": "58bbde87",
   "metadata": {},
   "outputs": [],
   "source": [
    "cam =cv.VideoCapture(1)\n",
    "logo=cv.imread('logo.png')\n",
    "logo=cv.resize(logo,(50,50))\n",
    "\n",
    "while True:\n",
    "    _,img=cam.read()\n",
    "    img=cv.flip(img,1)\n",
    "    ht=img.shape[0]\n",
    "    wd=img.shape[1]\n",
    "    \n",
    "    margin_h=int((ht/100)*87.5)\n",
    "    margin_w=int((wd/100)*90.7)\n",
    "    logo_h=int((ht/100)*10.5)\n",
    "    logo_w=int((wd/100)*7.82)\n",
    "\n",
    "    img[margin_h:margin_h+logo_h,margin_w:margin_w+logo_w]=logo\n",
    "    cv.imshow('Original',img)\n",
    "    \n",
    "    if cv.waitKey(1)==32:\n",
    "        cam.release()\n",
    "        cv.destroyAllWindows()\n",
    "        break"
   ]
  },
  {
   "cell_type": "code",
   "execution_count": 2,
   "id": "2c2a1bea",
   "metadata": {},
   "outputs": [],
   "source": [
    "#dynamic fit_2\n",
    "\n",
    "cam =cv.VideoCapture(1)\n",
    "\n",
    "r=0\n",
    "while True:\n",
    "    logo=cv.imread('logo.png')\n",
    "    logo=cv.resize(logo,(50,50))\n",
    "    _,img=cam.read()\n",
    "    img=cv.flip(img,1)\n",
    "    \n",
    "    img=img[:,r:]\n",
    "    ht=img.shape[0]\n",
    "    wd=img.shape[1]\n",
    "    \n",
    "    margin_h=int((ht/100)*2.2)\n",
    "    margin_w=int((wd/100)*90.7)\n",
    "    logo_h=int((ht/100)*10.5)\n",
    "    logo_w=int((wd/100)*7.82)\n",
    "    \n",
    "    side=min(logo_h,logo_w)\n",
    "    logo=cv.resize(logo,(side,side))\n",
    "    img[margin_h:margin_h+side,margin_w:margin_w+side]=logo\n",
    "    cv.imshow('Original',img)\n",
    "    \n",
    "    if cv.waitKey(1)==115:\n",
    "        r-=10\n",
    "    elif cv.waitKey(1)==119:\n",
    "        r+=10\n",
    "    elif cv.waitKey(1)==32:\n",
    "        cam.release()\n",
    "        cv.destroyAllWindows()\n",
    "        break"
   ]
  },
  {
   "cell_type": "code",
   "execution_count": 9,
   "id": "8f06122c",
   "metadata": {},
   "outputs": [],
   "source": [
    "#final fit\n",
    "\n",
    "cam =cv.VideoCapture(1)\n",
    "\n",
    "scalling_fact=1.0\n",
    "while True:\n",
    "    logo=cv.imread('logo.png')\n",
    "    logo=cv.resize(logo,(50,50))\n",
    "    _,img=cam.read()\n",
    "    img=cv.flip(img,1)\n",
    "    \n",
    "    img=cv.resize(img,(int(img.shape[1]*scalling_fact),int(img.shape[0]*scalling_fact)))\n",
    "#     img_copy=img.copy()\n",
    "    ht=img.shape[0]\n",
    "    wd=img.shape[1]\n",
    "    \n",
    "    margin_h=int((ht/100)*2.2)\n",
    "    margin_w=int((wd/100)*90.7)\n",
    "    logo_h=int((ht/100)*10.5)\n",
    "    logo_w=int((wd/100)*7.82)\n",
    "    \n",
    "    side=min(logo_h,logo_w)\n",
    "    bg=img[margin_h:margin_h+side,margin_w:margin_w+side].copy()\n",
    "    logo=cv.resize(logo,(side,side))\n",
    "    logo_mer=cv.addWeighted(bg,0.5,logo,0.7,0)\n",
    "    img[margin_h:margin_h+side,margin_w:margin_w+side]=logo_mer\n",
    "    cv.imshow('Original',img)\n",
    "    \n",
    "    if cv.waitKey(1)==115:\n",
    "        scalling_fact-=.1\n",
    "    elif cv.waitKey(1)==119:\n",
    "        scalling_fact+=.1\n",
    "    elif cv.waitKey(1)==32:\n",
    "        cam.release()\n",
    "        cv.destroyAllWindows()\n",
    "        break"
   ]
  },
  {
   "cell_type": "code",
   "execution_count": null,
   "id": "11a85000",
   "metadata": {},
   "outputs": [],
   "source": [
    "logo.shape"
   ]
  },
  {
   "cell_type": "code",
   "execution_count": 4,
   "id": "57707c19",
   "metadata": {},
   "outputs": [
    {
     "ename": "NameError",
     "evalue": "name 'cam' is not defined",
     "output_type": "error",
     "traceback": [
      "\u001b[1;31m---------------------------------------------------------------------------\u001b[0m",
      "\u001b[1;31mNameError\u001b[0m                                 Traceback (most recent call last)",
      "Input \u001b[1;32mIn [4]\u001b[0m, in \u001b[0;36m<cell line: 1>\u001b[1;34m()\u001b[0m\n\u001b[1;32m----> 1\u001b[0m \u001b[43mcam\u001b[49m\u001b[38;5;241m.\u001b[39mrelease()\n",
      "\u001b[1;31mNameError\u001b[0m: name 'cam' is not defined"
     ]
    }
   ],
   "source": [
    "cam.release()"
   ]
  },
  {
   "cell_type": "code",
   "execution_count": 5,
   "id": "8e159347",
   "metadata": {},
   "outputs": [
    {
     "data": {
      "text/plain": [
       "0.875"
      ]
     },
     "execution_count": 5,
     "metadata": {},
     "output_type": "execute_result"
    }
   ],
   "source": [
    "420/480"
   ]
  },
  {
   "cell_type": "code",
   "execution_count": 3,
   "id": "f23c477d",
   "metadata": {},
   "outputs": [],
   "source": [
    "ig=cv.imread('IMG_20220606_200528.jpg')\n",
    "cv.imshow('ig',ig)\n",
    "s=cv.waitKey(0)\n",
    "cv.destroyAllWindows()"
   ]
  },
  {
   "cell_type": "code",
   "execution_count": 4,
   "id": "c059bd85",
   "metadata": {},
   "outputs": [
    {
     "data": {
      "text/plain": [
       "115"
      ]
     },
     "execution_count": 4,
     "metadata": {},
     "output_type": "execute_result"
    }
   ],
   "source": [
    "s"
   ]
  },
  {
   "cell_type": "code",
   "execution_count": null,
   "id": "cc0ed1b2",
   "metadata": {},
   "outputs": [],
   "source": []
  }
 ],
 "metadata": {
  "kernelspec": {
   "display_name": "Python 3 (ipykernel)",
   "language": "python",
   "name": "python3"
  },
  "language_info": {
   "codemirror_mode": {
    "name": "ipython",
    "version": 3
   },
   "file_extension": ".py",
   "mimetype": "text/x-python",
   "name": "python",
   "nbconvert_exporter": "python",
   "pygments_lexer": "ipython3",
   "version": "3.9.12"
  }
 },
 "nbformat": 4,
 "nbformat_minor": 5
}
