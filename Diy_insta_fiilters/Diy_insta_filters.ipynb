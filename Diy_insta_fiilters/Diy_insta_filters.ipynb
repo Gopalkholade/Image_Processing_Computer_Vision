{
 "cells": [
  {
   "cell_type": "code",
   "execution_count": 3,
   "id": "6ca2dc42",
   "metadata": {},
   "outputs": [],
   "source": [
    "import cv2 as cv\n",
    "import numpy as np\n",
    "import matplotlib.pyplot as plt\n",
    "import os"
   ]
  },
  {
   "cell_type": "markdown",
   "id": "5a0172b9",
   "metadata": {},
   "source": [
    "### increase brightness by inputtuing +ve values and decrease by inputting -Ve values"
   ]
  },
  {
   "cell_type": "code",
   "execution_count": 18,
   "id": "17e2981f",
   "metadata": {},
   "outputs": [
    {
     "name": "stdout",
     "output_type": "stream",
     "text": [
      "-30\n"
     ]
    }
   ],
   "source": [
    "pixels=float(input())\n",
    "cam=cv.VideoCapture(1)\n",
    "\n",
    "while True:\n",
    "    _,img=cam.read()\n",
    "    \n",
    "    img=cv.flip(img,1)\n",
    "    \n",
    "#     img_1=img*1.5\n",
    "    img_1=img+pixels\n",
    "    img_1[img_1<0]=0\n",
    "    img_1[img_1>255]=255\n",
    "    \n",
    "    img_1=img_1.astype(np.uint8)\n",
    "    cv.imshow('Frame',img)\n",
    "    \n",
    "    cv.imshow('Brig',img_1)\n",
    "\n",
    "    if cv.waitKey(1)==32:\n",
    "        cam.release()\n",
    "        cv.destroyAllWindows()\n",
    "        break"
   ]
  },
  {
   "cell_type": "markdown",
   "id": "4972204b",
   "metadata": {},
   "source": [
    "### working on cool and warm tone of img"
   ]
  },
  {
   "cell_type": "code",
   "execution_count": 31,
   "id": "541ce8c5",
   "metadata": {},
   "outputs": [],
   "source": [
    "#creating a background\n",
    "# blue=[247,206,139]\n",
    "blue=[255,0,0]\n",
    "red =[0,0,255]\n",
    "wtc=str(input())\n",
    "background=[]\n",
    "for i in range(480):\n",
    "    temp=[]\n",
    "    for j in range(640):\n",
    "        if wtc=='red':\n",
    "            temp.append(red)\n",
    "        else:\n",
    "            temp.append(blue)\n",
    "    background.append(temp)\n",
    "background=np.array(background).astype(np.uint8)\n",
    "\n",
    "#merging the background\n",
    "cam=cv.VideoCapture(1)\n",
    "\n",
    "while True:\n",
    "    _,img=cam.read()\n",
    "    \n",
    "    img=cv.flip(img,1)\n",
    "    \n",
    "    img=np.array(img).astype(np.uint8)\n",
    "    merged=cv.addWeighted(img,0.9,background,0.02,0)\n",
    "    cv.imshow('Frame',img)\n",
    "    cv.imshow('merged',merged)\n",
    "    if cv.waitKey(1)==32:\n",
    "        cam.release()\n",
    "        cv.destroyAllWindows()\n",
    "        break"
   ]
  },
  {
   "cell_type": "markdown",
   "id": "92178a5f",
   "metadata": {},
   "source": [
    "### adding tone to images"
   ]
  },
  {
   "cell_type": "code",
   "execution_count": 3,
   "id": "04068f04",
   "metadata": {},
   "outputs": [],
   "source": [
    "def filter_woc(path,wtc,a,b):\n",
    "#     path=path[1:-1]\n",
    "    img = cv.imread(path)\n",
    "    img=cv.flip(img,1)\n",
    "    blue=[255,0,0]\n",
    "    red =[0,0,255]\n",
    "    background=[]\n",
    "    for i in range(img.shape[0]):\n",
    "        temp=[]\n",
    "        for j in range(img.shape[1]):\n",
    "            if wtc=='red':\n",
    "                temp.append(red)\n",
    "            else:\n",
    "                temp.append(blue)\n",
    "        background.append(temp)\n",
    "    background=np.array(background).astype(np.uint8)\n",
    "    img=np.array(img).astype(np.uint8)\n",
    "    merged=cv.addWeighted(img,a,background,b,0)\n",
    "    cv.imshow('Frame',img)\n",
    "    cv.waitKey(0)\n",
    "    cv.imshow('merged',merged)    \n",
    "    cv.waitKey(0)\n",
    "    "
   ]
  },
  {
   "cell_type": "code",
   "execution_count": 4,
   "id": "e26a9e92",
   "metadata": {},
   "outputs": [
    {
     "name": "stdout",
     "output_type": "stream",
     "text": [
      "b\n"
     ]
    }
   ],
   "source": [
    "img_path=str(input(\"paste img path : \"))\n",
    "wtc=str(input())\n",
    "\n",
    "filter_woc(path,wtc,0.9,0.03)"
   ]
  },
  {
   "cell_type": "code",
   "execution_count": 5,
   "id": "bded09d6",
   "metadata": {},
   "outputs": [
    {
     "data": {
      "text/plain": [
       "':/User/Images/IMG_20220606_200528.jp'"
      ]
     },
     "execution_count": 5,
     "metadata": {},
     "output_type": "execute_result"
    }
   ],
   "source": [
    "path[1:-1]"
   ]
  },
  {
   "cell_type": "code",
   "execution_count": 2,
   "id": "ac8ab8cc",
   "metadata": {},
   "outputs": [],
   "source": [
    "# function for custom filter\n",
    "def filter_custom(path,wtc,a,b):\n",
    "#     path=path[1:-1]\n",
    "    img = cv.imread(path)\n",
    "    img=cv.flip(img,1)\n",
    "    background=[]\n",
    "    for i in range(img.shape[0]):\n",
    "        temp=[]\n",
    "        for j in range(img.shape[1]):\n",
    "            temp.append(wtc)\n",
    "        background.append(temp)\n",
    "    background=np.array(background).astype(np.uint8)\n",
    "    img=np.array(img).astype(np.uint8)\n",
    "    merged=cv.addWeighted(img,a,background,b,0)\n",
    "    cv.imshow('Frame',img)\n",
    "    cv.waitKey(0)\n",
    "    cv.imshow('merged',merged)    \n",
    "    cv.waitKey(0)\n",
    "    "
   ]
  },
  {
   "cell_type": "code",
   "execution_count": 3,
   "id": "ceb34099",
   "metadata": {},
   "outputs": [],
   "source": [
    "path=\"D:/User/Images/IMG_20220606_200528.jpg\"\n",
    "filter_custom(path,[0,255,0],0.9,0.03)\n",
    "cv.destroyAllWindows()"
   ]
  },
  {
   "cell_type": "code",
   "execution_count": 4,
   "id": "d92b01da",
   "metadata": {},
   "outputs": [],
   "source": [
    "# function for forced merging two img\n",
    "def merge(fg_path,bg_path,a,b,fl_al=None):\n",
    "#     path=path[1:-1]\n",
    "    fg_img = cv.imread(fg_path)\n",
    "    bg_img = cv.imread(bg_path)\n",
    "    \n",
    "    if (fg_img.shape[0]>bg_img.shape[0] or fg_img.shape[1]>bg_img.shape[1]):\n",
    "        bg_img=cv.resize(bg_img,(fg_img.shape[1],fg_img.shape[0]))\n",
    "    else:\n",
    "        fg_img=cv.resize(fg_img,(bg_img.shape[1],bg_img.shape[0]))\n",
    "    \n",
    "    merged=cv.addWeighted(fg_img,a,bg_img,b,0)\n",
    "    fl=None\n",
    "    if fl_al=='v' or fl_al=='V':\n",
    "        merged=cv.flip(merged,0)\n",
    "        fl='v'\n",
    "    elif fl_al=='h' or fl_al=='H':\n",
    "        merged=cv.flip(merged,1)\n",
    "        fl='h'\n",
    "    else:\n",
    "        fl='nf'\n",
    "    \n",
    "\n",
    "    cv.imshow('merged',merged)    \n",
    "    cv.imwrite('merged.'+fl+'.png',merged)    \n",
    "    cv.waitKey(0)\n",
    "    "
   ]
  },
  {
   "cell_type": "code",
   "execution_count": 5,
   "id": "49e8a485",
   "metadata": {},
   "outputs": [
    {
     "name": "stdout",
     "output_type": "stream",
     "text": [
      "for vertical press 'v' and horizontal press 'h'none\n"
     ]
    }
   ],
   "source": [
    "fpath=\"D:/User/Images/IMG_20220606_200528.jpg\"\n",
    "bpath=\"D:/User/Images/IMG_20211015_181220_edited.jpg\"\n",
    "ali=str(input(\"for vertical press 'v' and horizontal press 'h'\"))\n",
    "merge(fpath,bpath,0.9,0.09,ali)\n",
    "cv.destroyAllWindows()"
   ]
  }
 ],
 "metadata": {
  "kernelspec": {
   "display_name": "Python 3 (ipykernel)",
   "language": "python",
   "name": "python3"
  },
  "language_info": {
   "codemirror_mode": {
    "name": "ipython",
    "version": 3
   },
   "file_extension": ".py",
   "mimetype": "text/x-python",
   "name": "python",
   "nbconvert_exporter": "python",
   "pygments_lexer": "ipython3",
   "version": "3.9.12"
  }
 },
 "nbformat": 4,
 "nbformat_minor": 5
}
